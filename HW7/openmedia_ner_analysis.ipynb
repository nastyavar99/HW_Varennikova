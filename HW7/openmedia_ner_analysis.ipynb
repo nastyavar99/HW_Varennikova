{
 "cells": [
  {
   "cell_type": "code",
   "execution_count": 1,
   "metadata": {},
   "outputs": [],
   "source": [
    "import json\n",
    "from collections import Counter, defaultdict"
   ]
  },
  {
   "cell_type": "code",
   "execution_count": 2,
   "metadata": {},
   "outputs": [],
   "source": [
    "from natasha import (\n",
    "    Segmenter,\n",
    "    MorphVocab,\n",
    "\n",
    "    NewsEmbedding,\n",
    "    NewsMorphTagger,\n",
    "    NewsSyntaxParser,\n",
    "    NewsNERTagger,\n",
    "\n",
    "    Doc\n",
    ")"
   ]
  },
  {
   "cell_type": "code",
   "execution_count": null,
   "metadata": {},
   "outputs": [],
   "source": [
    "segmenter = Segmenter()\n",
    "morph_vocab = MorphVocab()\n",
    "\n",
    "emb = NewsEmbedding()\n",
    "morph_tagger = NewsMorphTagger(emb)\n",
    "syntax_parser = NewsSyntaxParser(emb)\n",
    "ner_tagger = NewsNERTagger"
   ]
  },
  {
   "cell_type": "code",
   "execution_count": null,
   "metadata": {},
   "outputs": [],
   "source": [
    "with open('openmedia_corpus.json', 'r', encoding='utf-8') as file:\n",
    "    data = json.load(file)\n",
    "    \n",
    "    statistic = defaultdict(Counter)\n",
    "    \n",
    "    for value in data.values():\n",
    "        for dictionary in value:\n",
    "            segmenter = Segmenter()\n",
    "            morph_vocab = MorphVocab()\n",
    "\n",
    "            emb = NewsEmbedding()\n",
    "            morph_tagger = NewsMorphTagger(emb)\n",
    "            syntax_parser = NewsSyntaxParser(emb)\n",
    "            ner_tagger = NewsNERTagger(emb)\n",
    "\n",
    "            doc_article = Doc(dictionary['text'])\n",
    "            doc_article.segment(segmenter)\n",
    "            doc_article.tag_morph(morph_tagger)\n",
    "            doc_article.parse_syntax(syntax_parser)\n",
    "            doc_article.tag_ner(ner_tagger)\n",
    "\n",
    "            spans = []\n",
    "            for span in doc_article.spans:\n",
    "                span.normalize(morph_vocab)\n",
    "                spans.append(span.normal)\n",
    "\n",
    "            # есть только 2 категории новостей: эксклюзивные и обычные \n",
    "            if 'badge' in dictionary and dictionary['badge'] == 'эксклюзив':\n",
    "                statistic['exclusive_news'].update(spans)\n",
    "            else:\n",
    "                statistic['news'].update(spans)"
   ]
  },
  {
   "cell_type": "code",
   "execution_count": 6,
   "metadata": {},
   "outputs": [
    {
     "data": {
      "text/plain": [
       "[('Россия', 45),\n",
       " ('Москва', 38),\n",
       " ('YouTube', 24),\n",
       " ('Госдума', 23),\n",
       " ('СМИ', 20),\n",
       " ('Путин', 17),\n",
       " ('Владимир Путин', 16),\n",
       " ('Роскомнадзор', 14),\n",
       " ('Бурятия', 13),\n",
       " ('Facebook', 12)]"
      ]
     },
     "execution_count": 6,
     "metadata": {},
     "output_type": "execute_result"
    }
   ],
   "source": [
    "statistic['news'].most_common(10)"
   ]
  },
  {
   "cell_type": "code",
   "execution_count": 5,
   "metadata": {},
   "outputs": [
    {
     "data": {
      "text/plain": [
       "[('Москва', 15),\n",
       " ('Московский школьник', 12),\n",
       " ('Открытые медиа', 11),\n",
       " ('ФБК', 11),\n",
       " ('Соболь', 6),\n",
       " ('Малая Бронная', 6),\n",
       " ('Азербайджан', 5),\n",
       " ('Островский', 5),\n",
       " ('Минюст', 4),\n",
       " ('ОМ', 4)]"
      ]
     },
     "execution_count": 5,
     "metadata": {},
     "output_type": "execute_result"
    }
   ],
   "source": [
    "statistic['exclusive_news'].most_common(10)"
   ]
  }
 ],
 "metadata": {
  "kernelspec": {
   "display_name": "Python 3",
   "language": "python",
   "name": "python3"
  },
  "language_info": {
   "codemirror_mode": {
    "name": "ipython",
    "version": 3
   },
   "file_extension": ".py",
   "mimetype": "text/x-python",
   "name": "python",
   "nbconvert_exporter": "python",
   "pygments_lexer": "ipython3",
   "version": "3.7.8"
  }
 },
 "nbformat": 4,
 "nbformat_minor": 4
}
